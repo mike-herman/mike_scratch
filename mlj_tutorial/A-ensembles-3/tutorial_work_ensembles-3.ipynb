{
 "cells": [
  {
   "cell_type": "markdown",
   "metadata": {},
   "source": [
    "[Link to tutorial](https://juliaai.github.io/DataScienceTutorials.jl/getting-started/ensembles-3/)"
   ]
  },
  {
   "cell_type": "code",
   "execution_count": 1,
   "metadata": {},
   "outputs": [
    {
     "name": "stderr",
     "output_type": "stream",
     "text": [
      "\u001b[32m\u001b[1m  Activating\u001b[22m\u001b[39m project at `~/Documents/Personal Stuff/Repos/mike_scratch/mlj_tutorial/A-ensembles-3`\n"
     ]
    },
    {
     "name": "stderr",
     "output_type": "stream",
     "text": [
      "┌ Warning: The active manifest file has dependencies that were resolved with a different julia version (1.7.1). Unexpected behavior may occur.\n",
      "└ @ nothing /Users/michaelherman/Documents/Personal Stuff/Repos/mike_scratch/mlj_tutorial/A-ensembles-3/Manifest.toml:0\n"
     ]
    },
    {
     "name": "stderr",
     "output_type": "stream",
     "text": [
      "\u001b[32m\u001b[1mPrecompiling\u001b[22m\u001b[39m project...\n"
     ]
    },
    {
     "name": "stderr",
     "output_type": "stream",
     "text": [
      "\u001b[32m  ✓ \u001b[39m\u001b[90mDecisionTree\u001b[39m\n"
     ]
    },
    {
     "name": "stderr",
     "output_type": "stream",
     "text": [
      "\u001b[32m  ✓ \u001b[39mMLJDecisionTreeInterface\n",
      "  2 dependencies successfully precompiled in 2 seconds. 94 already precompiled.\n"
     ]
    }
   ],
   "source": [
    "using Pkg\n",
    "Pkg.activate(\".\")\n",
    "Pkg.instantiate()"
   ]
  },
  {
   "attachments": {},
   "cell_type": "markdown",
   "metadata": {},
   "source": [
    "This tutorial creates a homogeneous ensemble using learning networks.\n",
    "\n",
    "No bagging is used, so every atomic model gets the same learned parameters, unless teh atomic model training algorithm has randomness (e.g. DecisionTree) with random subsampling of features at nodes.\n",
    "\n",
    "Note that MLJ has a built in model wrapper called `EnsembleModel` for creating bagged ensembles. This implements a "
   ]
  },
  {
   "cell_type": "code",
   "execution_count": 2,
   "metadata": {},
   "outputs": [],
   "source": [
    "using MLJ\n",
    "using PyPlot\n",
    "import Statistics"
   ]
  },
  {
   "cell_type": "code",
   "execution_count": 3,
   "metadata": {},
   "outputs": [
    {
     "name": "stderr",
     "output_type": "stream",
     "text": [
      "┌ Info: For silent loading, specify `verbosity=0`. \n",
      "└ @ Main /Users/michaelherman/.julia/packages/MLJModels/tMgLW/src/loading.jl:168\n"
     ]
    },
    {
     "name": "stdout",
     "output_type": "stream",
     "text": [
      "import MLJDecisionTreeInterface ✔\n"
     ]
    },
    {
     "data": {
      "text/plain": [
       "Base.Generator{UnitRange{Int64}, var\"#9#10\"}(var\"#9#10\"(), 1:100)"
      ]
     },
     "metadata": {},
     "output_type": "display_data"
    }
   ],
   "source": [
    "Xs = source()\n",
    "ys = source()\n",
    "DecisionTreeRegressor = @load DecisionTreeRegressor pkg=DecisionTree\n",
    "atom = DecisionTreeRegressor()\n",
    "\n",
    "machines = (machine(atom, Xs, ys) for i in 1:100)"
   ]
  },
  {
   "attachments": {},
   "cell_type": "markdown",
   "metadata": {},
   "source": [
    "Overloading `mean` for nodes."
   ]
  },
  {
   "cell_type": "code",
   "execution_count": 6,
   "metadata": {},
   "outputs": [
    {
     "data": {
      "text/plain": [
       "Node{Nothing}\n",
       "  args:\n",
       "    1:\tNode{Machine{DecisionTreeRegressor,…}}\n",
       "    2:\tNode{Machine{DecisionTreeRegressor,…}}\n",
       "    3:\tNode{Machine{DecisionTreeRegressor,…}}\n",
       "    4:\tNode{Machine{DecisionTreeRegressor,…}}\n",
       "    5:\tNode{Machine{DecisionTreeRegressor,…}}\n",
       "    6:\tNode{Machine{DecisionTreeRegressor,…}}\n",
       "    7:\tNode{Machine{DecisionTreeRegressor,…}}\n",
       "    8:\tNode{Machine{DecisionTreeRegressor,…}}\n",
       "    9:\tNode{Machine{DecisionTreeRegressor,…}}\n",
       "    10:\tNode{Machine{DecisionTreeRegressor,…}}\n",
       "    11:\tNode{Machine{DecisionTreeRegressor,…}}\n",
       "    12:\tNode{Machine{DecisionTreeRegressor,…}}\n",
       "    13:\tNode{Machine{DecisionTreeRegressor,…}}\n",
       "    14:\tNode{Machine{DecisionTreeRegressor,…}}\n",
       "    15:\tNode{Machine{DecisionTreeRegressor,…}}\n",
       "    16:\tNode{Machine{DecisionTreeRegressor,…}}\n",
       "    17:\tNode{Machine{DecisionTreeRegressor,…}}\n",
       "    18:\tNode{Machine{DecisionTreeRegressor,…}}\n",
       "    19:\tNode{Machine{DecisionTreeRegressor,…}}\n",
       "    20:\tNode{Machine{DecisionTreeRegressor,…}}\n",
       "    21:\tNode{Machine{DecisionTreeRegressor,…}}\n",
       "    22:\tNode{Machine{DecisionTreeRegressor,…}}\n",
       "    23:\tNode{Machine{DecisionTreeRegressor,…}}\n",
       "    24:\tNode{Machine{DecisionTreeRegressor,…}}\n",
       "    25:\tNode{Machine{DecisionTreeRegressor,…}}\n",
       "    26:\tNode{Machine{DecisionTreeRegressor,…}}\n",
       "    27:\tNode{Machine{DecisionTreeRegressor,…}}\n",
       "    28:\tNode{Machine{DecisionTreeRegressor,…}}\n",
       "    29:\tNode{Machine{DecisionTreeRegressor,…}}\n",
       "    30:\tNode{Machine{DecisionTreeRegressor,…}}\n",
       "    31:\tNode{Machine{DecisionTreeRegressor,…}}\n",
       "    32:\tNode{Machine{DecisionTreeRegressor,…}}\n",
       "    33:\tNode{Machine{DecisionTreeRegressor,…}}\n",
       "    34:\tNode{Machine{DecisionTreeRegressor,…}}\n",
       "    35:\tNode{Machine{DecisionTreeRegressor,…}}\n",
       "    36:\tNode{Machine{DecisionTreeRegressor,…}}\n",
       "    37:\tNode{Machine{DecisionTreeRegressor,…}}\n",
       "    38:\tNode{Machine{DecisionTreeRegressor,…}}\n",
       "    39:\tNode{Machine{DecisionTreeRegressor,…}}\n",
       "    40:\tNode{Machine{DecisionTreeRegressor,…}}\n",
       "    41:\tNode{Machine{DecisionTreeRegressor,…}}\n",
       "    42:\tNode{Machine{DecisionTreeRegressor,…}}\n",
       "    43:\tNode{Machine{DecisionTreeRegressor,…}}\n",
       "    44:\tNode{Machine{DecisionTreeRegressor,…}}\n",
       "    45:\tNode{Machine{DecisionTreeRegressor,…}}\n",
       "    46:\tNode{Machine{DecisionTreeRegressor,…}}\n",
       "    47:\tNode{Machine{DecisionTreeRegressor,…}}\n",
       "    48:\tNode{Machine{DecisionTreeRegressor,…}}\n",
       "    49:\tNode{Machine{DecisionTreeRegressor,…}}\n",
       "    50:\tNode{Machine{DecisionTreeRegressor,…}}\n",
       "    51:\tNode{Machine{DecisionTreeRegressor,…}}\n",
       "    52:\tNode{Machine{DecisionTreeRegressor,…}}\n",
       "    53:\tNode{Machine{DecisionTreeRegressor,…}}\n",
       "    54:\tNode{Machine{DecisionTreeRegressor,…}}\n",
       "    55:\tNode{Machine{DecisionTreeRegressor,…}}\n",
       "    56:\tNode{Machine{DecisionTreeRegressor,…}}\n",
       "    57:\tNode{Machine{DecisionTreeRegressor,…}}\n",
       "    58:\tNode{Machine{DecisionTreeRegressor,…}}\n",
       "    59:\tNode{Machine{DecisionTreeRegressor,…}}\n",
       "    60:\tNode{Machine{DecisionTreeRegressor,…}}\n",
       "    61:\tNode{Machine{DecisionTreeRegressor,…}}\n",
       "    62:\tNode{Machine{DecisionTreeRegressor,…}}\n",
       "    63:\tNode{Machine{DecisionTreeRegressor,…}}\n",
       "    64:\tNode{Machine{DecisionTreeRegressor,…}}\n",
       "    65:\tNode{Machine{DecisionTreeRegressor,…}}\n",
       "    66:\tNode{Machine{DecisionTreeRegressor,…}}\n",
       "    67:\tNode{Machine{DecisionTreeRegressor,…}}\n",
       "    68:\tNode{Machine{DecisionTreeRegressor,…}}\n",
       "    69:\tNode{Machine{DecisionTreeRegressor,…}}\n",
       "    70:\tNode{Machine{DecisionTreeRegressor,…}}\n",
       "    71:\tNode{Machine{DecisionTreeRegressor,…}}\n",
       "    72:\tNode{Machine{DecisionTreeRegressor,…}}\n",
       "    73:\tNode{Machine{DecisionTreeRegressor,…}}\n",
       "    74:\tNode{Machine{DecisionTreeRegressor,…}}\n",
       "    75:\tNode{Machine{DecisionTreeRegressor,…}}\n",
       "    76:\tNode{Machine{DecisionTreeRegressor,…}}\n",
       "    77:\tNode{Machine{DecisionTreeRegressor,…}}\n",
       "    78:\tNode{Machine{DecisionTreeRegressor,…}}\n",
       "    79:\tNode{Machine{DecisionTreeRegressor,…}}\n",
       "    80:\tNode{Machine{DecisionTreeRegressor,…}}\n",
       "    81:\tNode{Machine{DecisionTreeRegressor,…}}\n",
       "    82:\tNode{Machine{DecisionTreeRegressor,…}}\n",
       "    83:\tNode{Machine{DecisionTreeRegressor,…}}\n",
       "    84:\tNode{Machine{DecisionTreeRegressor,…}}\n",
       "    85:\tNode{Machine{DecisionTreeRegressor,…}}\n",
       "    86:\tNode{Machine{DecisionTreeRegressor,…}}\n",
       "    87:\tNode{Machine{DecisionTreeRegressor,…}}\n",
       "    88:\tNode{Machine{DecisionTreeRegressor,…}}\n",
       "    89:\tNode{Machine{DecisionTreeRegressor,…}}\n",
       "    90:\tNode{Machine{DecisionTreeRegressor,…}}\n",
       "    91:\tNode{Machine{DecisionTreeRegressor,…}}\n",
       "    92:\tNode{Machine{DecisionTreeRegressor,…}}\n",
       "    93:\tNode{Machine{DecisionTreeRegressor,…}}\n",
       "    94:\tNode{Machine{DecisionTreeRegressor,…}}\n",
       "    95:\tNode{Machine{DecisionTreeRegressor,…}}\n",
       "    96:\tNode{Machine{DecisionTreeRegressor,…}}\n",
       "    97:\tNode{Machine{DecisionTreeRegressor,…}}\n",
       "    98:\tNode{Machine{DecisionTreeRegressor,…}}\n",
       "    99:\tNode{Machine{DecisionTreeRegressor,…}}\n",
       "    100:\tNode{Machine{DecisionTreeRegressor,…}}\n",
       "  formula:\n",
       "    mean(\n",
       "        predict(\n",
       "            \u001b[0m\u001b[1mMachine{DecisionTreeRegressor,…}\u001b[22m, \n",
       "            Source @684),\n",
       "        predict(\n",
       "            \u001b[0m\u001b[1mMachine{DecisionTreeRegressor,…}\u001b[22m, \n",
       "            Source @684),\n",
       "        predict(\n",
       "            \u001b[0m\u001b[1mMachine{DecisionTreeRegressor,…}\u001b[22m, \n",
       "            Source @684),\n",
       "        predict(\n",
       "            \u001b[0m\u001b[1mMachine{DecisionTreeRegressor,…}\u001b[22m, \n",
       "            Source @684),\n",
       "        predict(\n",
       "            \u001b[0m\u001b[1mMachine{DecisionTreeRegressor,…}\u001b[22m, \n",
       "            Source @684),\n",
       "        predict(\n",
       "            \u001b[0m\u001b[1mMachine{DecisionTreeRegressor,…}\u001b[22m, \n",
       "            Source @684),\n",
       "        predict(\n",
       "            \u001b[0m\u001b[1mMachine{DecisionTreeRegressor,…}\u001b[22m, \n",
       "            Source @684),\n",
       "        predict(\n",
       "            \u001b[0m\u001b[1mMachine{DecisionTreeRegressor,…}\u001b[22m, \n",
       "            Source @684),\n",
       "        predict(\n",
       "            \u001b[0m\u001b[1mMachine{DecisionTreeRegressor,…}\u001b[22m, \n",
       "            Source @684),\n",
       "        predict(\n",
       "            \u001b[0m\u001b[1mMachine{DecisionTreeRegressor,…}\u001b[22m, \n",
       "            Source @684),\n",
       "        predict(\n",
       "            \u001b[0m\u001b[1mMachine{DecisionTreeRegressor,…}\u001b[22m, \n",
       "            Source @684),\n",
       "        predict(\n",
       "            \u001b[0m\u001b[1mMachine{DecisionTreeRegressor,…}\u001b[22m, \n",
       "            Source @684),\n",
       "        predict(\n",
       "            \u001b[0m\u001b[1mMachine{DecisionTreeRegressor,…}\u001b[22m, \n",
       "            Source @684),\n",
       "        predict(\n",
       "            \u001b[0m\u001b[1mMachine{DecisionTreeRegressor,…}\u001b[22m, \n",
       "            Source @684),\n",
       "        predict(\n",
       "            \u001b[0m\u001b[1mMachine{DecisionTreeRegressor,…}\u001b[22m, \n",
       "            Source @684),\n",
       "        predict(\n",
       "            \u001b[0m\u001b[1mMachine{DecisionTreeRegressor,…}\u001b[22m, \n",
       "            Source @684),\n",
       "        predict(\n",
       "            \u001b[0m\u001b[1mMachine{DecisionTreeRegressor,…}\u001b[22m, \n",
       "            Source @684),\n",
       "        predict(\n",
       "            \u001b[0m\u001b[1mMachine{DecisionTreeRegressor,…}\u001b[22m, \n",
       "            Source @684),\n",
       "        predict(\n",
       "            \u001b[0m\u001b[1mMachine{DecisionTreeRegressor,…}\u001b[22m, \n",
       "            Source @684),\n",
       "        predict(\n",
       "            \u001b[0m\u001b[1mMachine{DecisionTreeRegressor,…}\u001b[22m, \n",
       "            Source @684),\n",
       "        predict(\n",
       "            \u001b[0m\u001b[1mMachine{DecisionTreeRegressor,…}\u001b[22m, \n",
       "            Source @684),\n",
       "        predict(\n",
       "            \u001b[0m\u001b[1mMachine{DecisionTreeRegressor,…}\u001b[22m, \n",
       "            Source @684),\n",
       "        predict(\n",
       "            \u001b[0m\u001b[1mMachine{DecisionTreeRegressor,…}\u001b[22m, \n",
       "            Source @684),\n",
       "        predict(\n",
       "            \u001b[0m\u001b[1mMachine{DecisionTreeRegressor,…}\u001b[22m, \n",
       "            Source @684),\n",
       "        predict(\n",
       "            \u001b[0m\u001b[1mMachine{DecisionTreeRegressor,…}\u001b[22m, \n",
       "            Source @684),\n",
       "        predict(\n",
       "            \u001b[0m\u001b[1mMachine{DecisionTreeRegressor,…}\u001b[22m, \n",
       "            Source @684),\n",
       "        predict(\n",
       "            \u001b[0m\u001b[1mMachine{DecisionTreeRegressor,…}\u001b[22m, \n",
       "            Source @684),\n",
       "        predict(\n",
       "            \u001b[0m\u001b[1mMachine{DecisionTreeRegressor,…}\u001b[22m, \n",
       "            Source @684),\n",
       "        predict(\n",
       "            \u001b[0m\u001b[1mMachine{DecisionTreeRegressor,…}\u001b[22m, \n",
       "            Source @684),\n",
       "        predict(\n",
       "            \u001b[0m\u001b[1mMachine{DecisionTreeRegressor,…}\u001b[22m, \n",
       "            Source @684),\n",
       "        predict(\n",
       "            \u001b[0m\u001b[1mMachine{DecisionTreeRegressor,…}\u001b[22m, \n",
       "            Source @684),\n",
       "        predict(\n",
       "            \u001b[0m\u001b[1mMachine{DecisionTreeRegressor,…}\u001b[22m, \n",
       "            Source @684),\n",
       "        predict(\n",
       "            \u001b[0m\u001b[1mMachine{DecisionTreeRegressor,…}\u001b[22m, \n",
       "            Source @684),\n",
       "        predict(\n",
       "            \u001b[0m\u001b[1mMachine{DecisionTreeRegressor,…}\u001b[22m, \n",
       "            Source @684),\n",
       "        predict(\n",
       "            \u001b[0m\u001b[1mMachine{DecisionTreeRegressor,…}\u001b[22m, \n",
       "            Source @684),\n",
       "        predict(\n",
       "            \u001b[0m\u001b[1mMachine{DecisionTreeRegressor,…}\u001b[22m, \n",
       "            Source @684),\n",
       "        predict(\n",
       "            \u001b[0m\u001b[1mMachine{DecisionTreeRegressor,…}\u001b[22m, \n",
       "            Source @684),\n",
       "        predict(\n",
       "            \u001b[0m\u001b[1mMachine{DecisionTreeRegressor,…}\u001b[22m, \n",
       "            Source @684),\n",
       "        predict(\n",
       "            \u001b[0m\u001b[1mMachine{DecisionTreeRegressor,…}\u001b[22m, \n",
       "            Source @684),\n",
       "        predict(\n",
       "            \u001b[0m\u001b[1mMachine{DecisionTreeRegressor,…}\u001b[22m, \n",
       "            Source @684),\n",
       "        predict(\n",
       "            \u001b[0m\u001b[1mMachine{DecisionTreeRegressor,…}\u001b[22m, \n",
       "            Source @684),\n",
       "        predict(\n",
       "            \u001b[0m\u001b[1mMachine{DecisionTreeRegressor,…}\u001b[22m, \n",
       "            Source @684),\n",
       "        predict(\n",
       "            \u001b[0m\u001b[1mMachine{DecisionTreeRegressor,…}\u001b[22m, \n",
       "            Source @684),\n",
       "        predict(\n",
       "            \u001b[0m\u001b[1mMachine{DecisionTreeRegressor,…}\u001b[22m, \n",
       "            Source @684),\n",
       "        predict(\n",
       "            \u001b[0m\u001b[1mMachine{DecisionTreeRegressor,…}\u001b[22m, \n",
       "            Source @684),\n",
       "        predict(\n",
       "            \u001b[0m\u001b[1mMachine{DecisionTreeRegressor,…}\u001b[22m, \n",
       "            Source @684),\n",
       "        predict(\n",
       "            \u001b[0m\u001b[1mMachine{DecisionTreeRegressor,…}\u001b[22m, \n",
       "            Source @684),\n",
       "        predict(\n",
       "            \u001b[0m\u001b[1mMachine{DecisionTreeRegressor,…}\u001b[22m, \n",
       "            Source @684),\n",
       "        predict(\n",
       "            \u001b[0m\u001b[1mMachine{DecisionTreeRegressor,…}\u001b[22m, \n",
       "            Source @684),\n",
       "        predict(\n",
       "            \u001b[0m\u001b[1mMachine{DecisionTreeRegressor,…}\u001b[22m, \n",
       "            Source @684),\n",
       "        predict(\n",
       "            \u001b[0m\u001b[1mMachine{DecisionTreeRegressor,…}\u001b[22m, \n",
       "            Source @684),\n",
       "        predict(\n",
       "            \u001b[0m\u001b[1mMachine{DecisionTreeRegressor,…}\u001b[22m, \n",
       "            Source @684),\n",
       "        predict(\n",
       "            \u001b[0m\u001b[1mMachine{DecisionTreeRegressor,…}\u001b[22m, \n",
       "            Source @684),\n",
       "        predict(\n",
       "            \u001b[0m\u001b[1mMachine{DecisionTreeRegressor,…}\u001b[22m, \n",
       "            Source @684),\n",
       "        predict(\n",
       "            \u001b[0m\u001b[1mMachine{DecisionTreeRegressor,…}\u001b[22m, \n",
       "            Source @684),\n",
       "        predict(\n",
       "            \u001b[0m\u001b[1mMachine{DecisionTreeRegressor,…}\u001b[22m, \n",
       "            Source @684),\n",
       "        predict(\n",
       "            \u001b[0m\u001b[1mMachine{DecisionTreeRegressor,…}\u001b[22m, \n",
       "            Source @684),\n",
       "        predict(\n",
       "            \u001b[0m\u001b[1mMachine{DecisionTreeRegressor,…}\u001b[22m, \n",
       "            Source @684),\n",
       "        predict(\n",
       "            \u001b[0m\u001b[1mMachine{DecisionTreeRegressor,…}\u001b[22m, \n",
       "            Source @684),\n",
       "        predict(\n",
       "            \u001b[0m\u001b[1mMachine{DecisionTreeRegressor,…}\u001b[22m, \n",
       "            Source @684),\n",
       "        predict(\n",
       "            \u001b[0m\u001b[1mMachine{DecisionTreeRegressor,…}\u001b[22m, \n",
       "            Source @684),\n",
       "        predict(\n",
       "            \u001b[0m\u001b[1mMachine{DecisionTreeRegressor,…}\u001b[22m, \n",
       "            Source @684),\n",
       "        predict(\n",
       "            \u001b[0m\u001b[1mMachine{DecisionTreeRegressor,…}\u001b[22m, \n",
       "            Source @684),\n",
       "        predict(\n",
       "            \u001b[0m\u001b[1mMachine{DecisionTreeRegressor,…}\u001b[22m, \n",
       "            Source @684),\n",
       "        predict(\n",
       "            \u001b[0m\u001b[1mMachine{DecisionTreeRegressor,…}\u001b[22m, \n",
       "            Source @684),\n",
       "        predict(\n",
       "            \u001b[0m\u001b[1mMachine{DecisionTreeRegressor,…}\u001b[22m, \n",
       "            Source @684),\n",
       "        predict(\n",
       "            \u001b[0m\u001b[1mMachine{DecisionTreeRegressor,…}\u001b[22m, \n",
       "            Source @684),\n",
       "        predict(\n",
       "            \u001b[0m\u001b[1mMachine{DecisionTreeRegressor,…}\u001b[22m, \n",
       "            Source @684),\n",
       "        predict(\n",
       "            \u001b[0m\u001b[1mMachine{DecisionTreeRegressor,…}\u001b[22m, \n",
       "            Source @684),\n",
       "        predict(\n",
       "            \u001b[0m\u001b[1mMachine{DecisionTreeRegressor,…}\u001b[22m, \n",
       "            Source @684),\n",
       "        predict(\n",
       "            \u001b[0m\u001b[1mMachine{DecisionTreeRegressor,…}\u001b[22m, \n",
       "            Source @684),\n",
       "        predict(\n",
       "            \u001b[0m\u001b[1mMachine{DecisionTreeRegressor,…}\u001b[22m, \n",
       "            Source @684),\n",
       "        predict(\n",
       "            \u001b[0m\u001b[1mMachine{DecisionTreeRegressor,…}\u001b[22m, \n",
       "            Source @684),\n",
       "        predict(\n",
       "            \u001b[0m\u001b[1mMachine{DecisionTreeRegressor,…}\u001b[22m, \n",
       "            Source @684),\n",
       "        predict(\n",
       "            \u001b[0m\u001b[1mMachine{DecisionTreeRegressor,…}\u001b[22m, \n",
       "            Source @684),\n",
       "        predict(\n",
       "            \u001b[0m\u001b[1mMachine{DecisionTreeRegressor,…}\u001b[22m, \n",
       "            Source @684),\n",
       "        predict(\n",
       "            \u001b[0m\u001b[1mMachine{DecisionTreeRegressor,…}\u001b[22m, \n",
       "            Source @684),\n",
       "        predict(\n",
       "            \u001b[0m\u001b[1mMachine{DecisionTreeRegressor,…}\u001b[22m, \n",
       "            Source @684),\n",
       "        predict(\n",
       "            \u001b[0m\u001b[1mMachine{DecisionTreeRegressor,…}\u001b[22m, \n",
       "            Source @684),\n",
       "        predict(\n",
       "            \u001b[0m\u001b[1mMachine{DecisionTreeRegressor,…}\u001b[22m, \n",
       "            Source @684),\n",
       "        predict(\n",
       "            \u001b[0m\u001b[1mMachine{DecisionTreeRegressor,…}\u001b[22m, \n",
       "            Source @684),\n",
       "        predict(\n",
       "            \u001b[0m\u001b[1mMachine{DecisionTreeRegressor,…}\u001b[22m, \n",
       "            Source @684),\n",
       "        predict(\n",
       "            \u001b[0m\u001b[1mMachine{DecisionTreeRegressor,…}\u001b[22m, \n",
       "            Source @684),\n",
       "        predict(\n",
       "            \u001b[0m\u001b[1mMachine{DecisionTreeRegressor,…}\u001b[22m, \n",
       "            Source @684),\n",
       "        predict(\n",
       "            \u001b[0m\u001b[1mMachine{DecisionTreeRegressor,…}\u001b[22m, \n",
       "            Source @684),\n",
       "        predict(\n",
       "            \u001b[0m\u001b[1mMachine{DecisionTreeRegressor,…}\u001b[22m, \n",
       "            Source @684),\n",
       "        predict(\n",
       "            \u001b[0m\u001b[1mMachine{DecisionTreeRegressor,…}\u001b[22m, \n",
       "            Source @684),\n",
       "        predict(\n",
       "            \u001b[0m\u001b[1mMachine{DecisionTreeRegressor,…}\u001b[22m, \n",
       "            Source @684),\n",
       "        predict(\n",
       "            \u001b[0m\u001b[1mMachine{DecisionTreeRegressor,…}\u001b[22m, \n",
       "            Source @684),\n",
       "        predict(\n",
       "            \u001b[0m\u001b[1mMachine{DecisionTreeRegressor,…}\u001b[22m, \n",
       "            Source @684),\n",
       "        predict(\n",
       "            \u001b[0m\u001b[1mMachine{DecisionTreeRegressor,…}\u001b[22m, \n",
       "            Source @684),\n",
       "        predict(\n",
       "            \u001b[0m\u001b[1mMachine{DecisionTreeRegressor,…}\u001b[22m, \n",
       "            Source @684),\n",
       "        predict(\n",
       "            \u001b[0m\u001b[1mMachine{DecisionTreeRegressor,…}\u001b[22m, \n",
       "            Source @684),\n",
       "        predict(\n",
       "            \u001b[0m\u001b[1mMachine{DecisionTreeRegressor,…}\u001b[22m, \n",
       "            Source @684),\n",
       "        predict(\n",
       "            \u001b[0m\u001b[1mMachine{DecisionTreeRegressor,…}\u001b[22m, \n",
       "            Source @684),\n",
       "        predict(\n",
       "            \u001b[0m\u001b[1mMachine{DecisionTreeRegressor,…}\u001b[22m, \n",
       "            Source @684),\n",
       "        predict(\n",
       "            \u001b[0m\u001b[1mMachine{DecisionTreeRegressor,…}\u001b[22m, \n",
       "            Source @684),\n",
       "        predict(\n",
       "            \u001b[0m\u001b[1mMachine{DecisionTreeRegressor,…}\u001b[22m, \n",
       "            Source @684),\n",
       "        predict(\n",
       "            \u001b[0m\u001b[1mMachine{DecisionTreeRegressor,…}\u001b[22m, \n",
       "            Source @684),\n",
       "        predict(\n",
       "            \u001b[0m\u001b[1mMachine{DecisionTreeRegressor,…}\u001b[22m, \n",
       "            Source @684))"
      ]
     },
     "metadata": {},
     "output_type": "display_data"
    }
   ],
   "source": [
    "Statistics.mean(v...) = mean(v)\n",
    "Statistics.mean(v::AbstractVector{<:AbstractNode}) = node(mean, v...)\n",
    "\n",
    "yhat = mean([predict(m, Xs) for m in machines])"
   ]
  },
  {
   "attachments": {},
   "cell_type": "markdown",
   "metadata": {},
   "source": [
    "Defining new composit model type and instance."
   ]
  },
  {
   "cell_type": "code",
   "execution_count": 8,
   "metadata": {},
   "outputs": [
    {
     "data": {
      "text/plain": [
       "OneHundredModels(\n",
       "    atom = DecisionTreeRegressor(\n",
       "            max_depth = -1,\n",
       "            min_samples_leaf = 5,\n",
       "            min_samples_split = 2,\n",
       "            min_purity_increase = 0.0,\n",
       "            n_subfeatures = 0,\n",
       "            post_prune = false,\n",
       "            merge_purity_threshold = 1.0,\n",
       "            rng = Random._GLOBAL_RNG()))"
      ]
     },
     "metadata": {},
     "output_type": "display_data"
    }
   ],
   "source": [
    "surrogate = Deterministic()\n",
    "mach = machine(surrogate, Xs, ys; predict=yhat)\n",
    "\n",
    "@from_network mach begin\n",
    "    mutable struct OneHundredModels\n",
    "        atom=atom\n",
    "    end\n",
    "end\n",
    "\n",
    "one_hundred_models = OneHundredModels()"
   ]
  },
  {
   "attachments": {},
   "cell_type": "markdown",
   "metadata": {},
   "source": [
    "Application to data"
   ]
  },
  {
   "cell_type": "code",
   "execution_count": 9,
   "metadata": {},
   "outputs": [],
   "source": [
    "X, y = @load_boston;"
   ]
  },
  {
   "cell_type": "code",
   "execution_count": 10,
   "metadata": {},
   "outputs": [
    {
     "name": "stderr",
     "output_type": "stream",
     "text": [
      "┌ Warning: `vendor()` is deprecated, use `BLAS.get_config()` and inspect the output instead\n",
      "│   caller = npyinitialize() at numpy.jl:67\n",
      "└ @ PyCall /Users/michaelherman/.julia/packages/PyCall/L0fLP/src/numpy.jl:67\n"
     ]
    },
    {
     "data": {
      "text/plain": [
       "PyObject Text(0.5, 0, 'min_samples_split')"
      ]
     },
     "metadata": {},
     "output_type": "display_data"
    }
   ],
   "source": [
    "r = range(atom, :min_samples_split, lower=2, upper=100, scale=:log)\n",
    "mach = machine(atom, X, y)\n",
    "figure()\n",
    "curve = learning_curve!(mach, range=r, measure=mav, resampling=CV(nfolds=9), verbosity=0)\n",
    "plot(curve.parameter_values, curve.measurements)\n",
    "xlabel(curve.parameter_name)"
   ]
  },
  {
   "attachments": {},
   "cell_type": "markdown",
   "metadata": {},
   "source": [
    "![curve](https://juliaai.github.io/DataScienceTutorials.jl/assets/getting-started/ensembles-3/code/output/e1.svg)"
   ]
  },
  {
   "attachments": {},
   "cell_type": "markdown",
   "metadata": {},
   "source": [
    "Tune regularization parameter for all trees in ensemble simultaneously."
   ]
  },
  {
   "cell_type": "code",
   "execution_count": 11,
   "metadata": {},
   "outputs": [
    {
     "data": {
      "text/plain": [
       "PyObject Text(0.5, 0, 'atom.min_samples_split')"
      ]
     },
     "metadata": {},
     "output_type": "display_data"
    }
   ],
   "source": [
    "r = range(one_hundred_models, :(atom.min_samples_split), lower=2, upper=100, scale=:log)\n",
    "\n",
    "mach = machine(one_hundred_models, X, y)\n",
    "\n",
    "figure()\n",
    "curve = learning_curve!(mach, range=r, measure=mav, resampling=CV(nfolds=9), verbosity=0)\n",
    "plot(curve.parameter_values, curve.measurements)\n",
    "xlabel(curve.parameter_name)"
   ]
  },
  {
   "attachments": {},
   "cell_type": "markdown",
   "metadata": {},
   "source": [
    "![curve2](https://juliaai.github.io/DataScienceTutorials.jl/assets/getting-started/ensembles-3/code/output/e2.svg)"
   ]
  },
  {
   "cell_type": "markdown",
   "metadata": {},
   "source": []
  }
 ],
 "metadata": {
  "kernelspec": {
   "display_name": "Julia 1.8.5",
   "language": "julia",
   "name": "julia-1.8"
  },
  "language_info": {
   "file_extension": ".jl",
   "mimetype": "application/julia",
   "name": "julia",
   "version": "1.8.5"
  },
  "orig_nbformat": 4
 },
 "nbformat": 4,
 "nbformat_minor": 2
}
