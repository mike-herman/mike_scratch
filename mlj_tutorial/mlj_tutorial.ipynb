{
 "cells": [
  {
   "cell_type": "code",
   "execution_count": 1,
   "metadata": {},
   "outputs": [
    {
     "name": "stderr",
     "output_type": "stream",
     "text": [
      "\u001b[32m\u001b[1m  Activating\u001b[22m\u001b[39m project at `~/Repos/mike_scratch/mlj_tutorial`\n"
     ]
    }
   ],
   "source": [
    "using Pkg\n",
    "Pkg.activate(\".\")"
   ]
  },
  {
   "attachments": {},
   "cell_type": "markdown",
   "metadata": {},
   "source": [
    "# Julia Tutorial"
   ]
  },
  {
   "attachments": {},
   "cell_type": "markdown",
   "metadata": {},
   "source": [
    "[Link to main page](https://juliaai.github.io/DataScienceTutorials.jl/)"
   ]
  },
  {
   "attachments": {},
   "cell_type": "markdown",
   "metadata": {},
   "source": [
    "## Choosing and evaluation a model"
   ]
  },
  {
   "attachments": {},
   "cell_type": "markdown",
   "metadata": {},
   "source": [
    "[Link](https://juliaai.github.io/DataScienceTutorials.jl/getting-started/choosing-a-model/)"
   ]
  },
  {
   "cell_type": "code",
   "execution_count": 2,
   "metadata": {},
   "outputs": [],
   "source": [
    "using RDatasets, MLJ, DecisionTree, NearestNeighborModels, MLJScikitLearnInterface, GLM\n"
   ]
  },
  {
   "cell_type": "code",
   "execution_count": 3,
   "metadata": {},
   "outputs": [
    {
     "name": "stdout",
     "output_type": "stream",
     "text": [
      "┌─────────────┬────────────┬─────────────┬────────────┬─────────────────────────────────┐\n",
      "│\u001b[1m SepalLength \u001b[0m│\u001b[1m SepalWidth \u001b[0m│\u001b[1m PetalLength \u001b[0m│\u001b[1m PetalWidth \u001b[0m│\u001b[1m Species                         \u001b[0m│\n",
      "│\u001b[90m Float64     \u001b[0m│\u001b[90m Float64    \u001b[0m│\u001b[90m Float64     \u001b[0m│\u001b[90m Float64    \u001b[0m│\u001b[90m CategoricalValue{String, UInt8} \u001b[0m│\n",
      "│\u001b[90m Continuous  \u001b[0m│\u001b[90m Continuous \u001b[0m│\u001b[90m Continuous  \u001b[0m│\u001b[90m Continuous \u001b[0m│\u001b[90m Multiclass{3}                   \u001b[0m│\n",
      "├─────────────┼────────────┼─────────────┼────────────┼─────────────────────────────────┤\n",
      "│ 5.1         │ 3.5        │ 1.4         │ 0.2        │ setosa                          │\n",
      "│ 4.9         │ 3.0        │ 1.4         │ 0.2        │ setosa                          │\n",
      "│ 4.7         │ 3.2        │ 1.3         │ 0.2        │ setosa                          │\n",
      "└─────────────┴────────────┴─────────────┴────────────┴─────────────────────────────────┘\n"
     ]
    }
   ],
   "source": [
    "iris = dataset(\"datasets\", \"iris\")\n",
    "first(iris, 3) |> pretty"
   ]
  },
  {
   "cell_type": "code",
   "execution_count": 4,
   "metadata": {},
   "outputs": [
    {
     "name": "stdout",
     "output_type": "stream",
     "text": [
      "┌─────────────┬───────────────────────────────────┐\n",
      "│\u001b[1m PetalLength \u001b[0m│\u001b[1m PetalWidth                        \u001b[0m│\n",
      "│\u001b[90m Float64     \u001b[0m│\u001b[90m CategoricalValue{Float64, UInt32} \u001b[0m│\n",
      "│\u001b[90m Continuous  \u001b[0m│\u001b[90m OrderedFactor{22}                 \u001b[0m│\n",
      "├─────────────┼───────────────────────────────────┤\n",
      "│ 1.4         │ 0.2                               │\n",
      "└─────────────┴───────────────────────────────────┘\n"
     ]
    }
   ],
   "source": [
    "iris2 = coerce(iris, :PetalWidth => OrderedFactor)\n",
    "first(iris2[:, [:PetalLength, :PetalWidth]], 1) |> pretty"
   ]
  },
  {
   "cell_type": "code",
   "execution_count": 5,
   "metadata": {},
   "outputs": [
    {
     "name": "stdout",
     "output_type": "stream",
     "text": [
      "┌─────────────┬────────────┬─────────────┬────────────┐\n",
      "│\u001b[1m SepalLength \u001b[0m│\u001b[1m SepalWidth \u001b[0m│\u001b[1m PetalLength \u001b[0m│\u001b[1m PetalWidth \u001b[0m│\n",
      "│\u001b[90m Float64     \u001b[0m│\u001b[90m Float64    \u001b[0m│\u001b[90m Float64     \u001b[0m│\u001b[90m Float64    \u001b[0m│\n",
      "│\u001b[90m Continuous  \u001b[0m│\u001b[90m Continuous \u001b[0m│\u001b[90m Continuous  \u001b[0m│\u001b[90m Continuous \u001b[0m│\n",
      "├─────────────┼────────────┼─────────────┼────────────┤\n",
      "│ 5.1         │ 3.5        │ 1.4         │ 0.2        │\n",
      "└─────────────┴────────────┴─────────────┴────────────┘\n"
     ]
    }
   ],
   "source": [
    "y, X = unpack(iris, ==(:Species))\n",
    "first(X, 1) |> pretty"
   ]
  },
  {
   "cell_type": "code",
   "execution_count": 6,
   "metadata": {},
   "outputs": [
    {
     "name": "stdout",
     "output_type": "stream",
     "text": [
      "┌─────────────┬────────────┬────────────┐\n",
      "│\u001b[1m SepalLength \u001b[0m│\u001b[1m SepalWidth \u001b[0m│\u001b[1m PetalWidth \u001b[0m│\n",
      "│\u001b[90m Float64     \u001b[0m│\u001b[90m Float64    \u001b[0m│\u001b[90m Float64    \u001b[0m│\n",
      "│\u001b[90m Continuous  \u001b[0m│\u001b[90m Continuous \u001b[0m│\u001b[90m Continuous \u001b[0m│\n",
      "├─────────────┼────────────┼────────────┤\n",
      "│ 5.1         │ 3.5        │ 0.2        │\n",
      "└─────────────┴────────────┴────────────┘\n"
     ]
    }
   ],
   "source": [
    "y, X = unpack(iris, ==(:Species), !=(:PetalLength))\n",
    "first(X,1) |> pretty"
   ]
  },
  {
   "cell_type": "code",
   "execution_count": 7,
   "metadata": {},
   "outputs": [
    {
     "data": {
      "text/plain": [
       "((sepal_length = [5.1, 4.9, 4.7, 4.6, 5.0, 5.4, 4.6, 5.0, 4.4, 4.9  …  6.7, 6.9, 5.8, 6.8, 6.7, 6.7, 6.3, 6.5, 6.2, 5.9], sepal_width = [3.5, 3.0, 3.2, 3.1, 3.6, 3.9, 3.4, 3.4, 2.9, 3.1  …  3.1, 3.1, 2.7, 3.2, 3.3, 3.0, 2.5, 3.0, 3.4, 3.0], petal_length = [1.4, 1.4, 1.3, 1.5, 1.4, 1.7, 1.4, 1.5, 1.4, 1.5  …  5.6, 5.1, 5.1, 5.9, 5.7, 5.2, 5.0, 5.2, 5.4, 5.1], petal_width = [0.2, 0.2, 0.2, 0.2, 0.2, 0.4, 0.3, 0.2, 0.2, 0.1  …  2.4, 2.3, 1.9, 2.3, 2.5, 2.3, 1.9, 2.0, 2.3, 1.8]), CategoricalArrays.CategoricalValue{String, UInt32}[\"setosa\", \"setosa\", \"setosa\", \"setosa\", \"setosa\", \"setosa\", \"setosa\", \"setosa\", \"setosa\", \"setosa\"  …  \"virginica\", \"virginica\", \"virginica\", \"virginica\", \"virginica\", \"virginica\", \"virginica\", \"virginica\", \"virginica\", \"virginica\"])"
      ]
     },
     "metadata": {},
     "output_type": "display_data"
    }
   ],
   "source": [
    "X, y = @load_iris"
   ]
  },
  {
   "cell_type": "code",
   "execution_count": 8,
   "metadata": {},
   "outputs": [
    {
     "name": "stdout",
     "output_type": "stream",
     "text": [
      "AdaBoostClassifier            (MLJScikitLearnInterface)\n",
      "AdaBoostStumpClassifier       (DecisionTree)\n",
      "BaggingClassifier             (MLJScikitLearnInterface)\n",
      "BayesianLDA                   (MLJScikitLearnInterface)\n",
      "BayesianLDA                   (MultivariateStats)\n",
      "BayesianQDA                   (MLJScikitLearnInterface)\n",
      "BayesianSubspaceLDA           (MultivariateStats)\n",
      "CatBoostClassifier            (CatBoost)\n",
      "ConstantClassifier            (MLJModels)\n",
      "DecisionTreeClassifier        (BetaML)\n",
      "DecisionTreeClassifier        (DecisionTree)\n",
      "DummyClassifier               (MLJScikitLearnInterface)\n",
      "EvoTreeClassifier             (EvoTrees)\n",
      "ExtraTreesClassifier          (MLJScikitLearnInterface)\n",
      "GaussianNBClassifier          (MLJScikitLearnInterface)\n",
      "GaussianNBClassifier          (NaiveBayes)\n",
      "GaussianProcessClassifier     (MLJScikitLearnInterface)\n",
      "GradientBoostingClassifier    (MLJScikitLearnInterface)\n",
      "KNNClassifier                 (NearestNeighborModels)\n",
      "KNeighborsClassifier          (MLJScikitLearnInterface)\n",
      "KernelPerceptron              (BetaML)\n",
      "LDA                           (MultivariateStats)\n",
      "LGBMClassifier                (LightGBM)\n",
      "LinearPerceptron              (BetaML)\n",
      "LogisticCVClassifier          (MLJScikitLearnInterface)\n",
      "LogisticClassifier            (MLJLinearModels)\n",
      "LogisticClassifier            (MLJScikitLearnInterface)\n",
      "MultinomialClassifier         (MLJLinearModels)\n",
      "NeuralNetworkClassifier       (BetaML)\n",
      "NeuralNetworkClassifier       (MLJFlux)\n",
      "Pegasos                       (BetaML)\n",
      "ProbabilisticNuSVC            (LIBSVM)\n",
      "ProbabilisticSGDClassifier    (MLJScikitLearnInterface)\n",
      "ProbabilisticSVC              (LIBSVM)\n",
      "RandomForestClassifier        (BetaML)\n",
      "RandomForestClassifier        (DecisionTree)\n",
      "RandomForestClassifier        (MLJScikitLearnInterface)\n",
      "SubspaceLDA                   (MultivariateStats)\n",
      "XGBoostClassifier             (XGBoost)\n"
     ]
    }
   ],
   "source": [
    "# List all the models we can choose from in MLJ for X and y.\n",
    "# `models` will list models.\n",
    "# Below will list the ones matching this type of data.\n",
    "for m in models(matching(X, y))\n",
    "    if m.prediction_type == :probabilistic\n",
    "        println(rpad(m.name, 30), \"($(m.package_name))\")\n",
    "    end\n",
    "end"
   ]
  },
  {
   "cell_type": "code",
   "execution_count": 9,
   "metadata": {},
   "outputs": [
    {
     "name": "stdout",
     "output_type": "stream",
     "text": [
      "import MLJScikitLearnInterface ✔\n"
     ]
    },
    {
     "name": "stderr",
     "output_type": "stream",
     "text": [
      "┌ Info: For silent loading, specify `verbosity=0`. \n",
      "└ @ Main /Users/mph/.julia/packages/MLJModels/UM8fF/src/loading.jl:159\n"
     ]
    },
    {
     "data": {
      "text/plain": [
       "KNeighborsClassifier"
      ]
     },
     "metadata": {},
     "output_type": "display_data"
    }
   ],
   "source": [
    "# Load a model.\n",
    "knc = @load KNeighborsClassifier"
   ]
  },
  {
   "cell_type": "code",
   "execution_count": 10,
   "metadata": {},
   "outputs": [
    {
     "name": "stdout",
     "output_type": "stream",
     "text": [
      "import MLJGLMInterface ✔"
     ]
    },
    {
     "name": "stderr",
     "output_type": "stream",
     "text": [
      "┌ Info: For silent loading, specify `verbosity=0`. \n",
      "└ @ Main /Users/mph/.julia/packages/MLJModels/UM8fF/src/loading.jl:159\n"
     ]
    },
    {
     "name": "stdout",
     "output_type": "stream",
     "text": [
      "\n"
     ]
    },
    {
     "data": {
      "text/plain": [
       "MLJGLMInterface.LinearRegressor"
      ]
     },
     "metadata": {},
     "output_type": "display_data"
    }
   ],
   "source": [
    "# If a model is provided by multiple packages, useg teh pkg argument to specify.\n",
    "linreg = @load LinearRegressor pkg=GLM"
   ]
  },
  {
   "attachments": {},
   "cell_type": "markdown",
   "metadata": {},
   "source": [
    "## Fit, predict, transform"
   ]
  },
  {
   "cell_type": "code",
   "execution_count": 46,
   "metadata": {},
   "outputs": [],
   "source": [
    "using MLJ\n",
    "import Statistics\n",
    "using PrettyPrinting\n",
    "using StableRNGs"
   ]
  },
  {
   "cell_type": "code",
   "execution_count": 12,
   "metadata": {},
   "outputs": [],
   "source": [
    "X, y = @load_iris;"
   ]
  },
  {
   "cell_type": "code",
   "execution_count": 23,
   "metadata": {},
   "outputs": [
    {
     "name": "stdout",
     "output_type": "stream",
     "text": [
      "import MLJDecisionTreeInterface ✔\n"
     ]
    },
    {
     "name": "stderr",
     "output_type": "stream",
     "text": [
      "┌ Info: For silent loading, specify `verbosity=0`. \n",
      "└ @ Main /Users/mph/.julia/packages/MLJModels/UM8fF/src/loading.jl:159\n"
     ]
    },
    {
     "data": {
      "text/plain": [
       "DecisionTreeClassifier(\n",
       "  max_depth = -1, \n",
       "  min_samples_leaf = 1, \n",
       "  min_samples_split = 2, \n",
       "  min_purity_increase = 0.0, \n",
       "  n_subfeatures = 0, \n",
       "  post_prune = false, \n",
       "  merge_purity_threshold = 1.0, \n",
       "  display_depth = 5, \n",
       "  feature_importance = :impurity, \n",
       "  rng = Random._GLOBAL_RNG())"
      ]
     },
     "metadata": {},
     "output_type": "display_data"
    }
   ],
   "source": [
    "DecisionTreeClassifier = @load DecisionTreeClassifier pkg=DecisionTree\n",
    "tree_model = DecisionTreeClassifier()"
   ]
  },
  {
   "attachments": {},
   "cell_type": "markdown",
   "metadata": {},
   "source": [
    "Some important definitions.\n",
    "\n",
    "A \"model\", like the `tree_model` we imported, is just a container for the hyperparameters of the model."
   ]
  },
  {
   "cell_type": "code",
   "execution_count": 27,
   "metadata": {},
   "outputs": [
    {
     "data": {
      "text/plain": [
       "DecisionTreeClassifier(\n",
       "  max_depth = -1, \n",
       "  min_samples_leaf = 1, \n",
       "  min_samples_split = 2, \n",
       "  min_purity_increase = 0.0, \n",
       "  n_subfeatures = 0, \n",
       "  post_prune = false, \n",
       "  merge_purity_threshold = 1.0, \n",
       "  display_depth = 5, \n",
       "  feature_importance = :impurity, \n",
       "  rng = Random._GLOBAL_RNG())"
      ]
     },
     "metadata": {},
     "output_type": "display_data"
    }
   ],
   "source": [
    "tree_model"
   ]
  },
  {
   "attachments": {},
   "cell_type": "markdown",
   "metadata": {},
   "source": [
    "A \"machine\" is an object wrapping both a model and data and can contain information on the _trained_ model. But it does _not_ fit the model by itself. However, it does  check that the model is compatible with the scientific type of the data and will warn you outherwise."
   ]
  },
  {
   "attachments": {},
   "cell_type": "markdown",
   "metadata": {},
   "source": [
    "### MLJ Machine"
   ]
  },
  {
   "cell_type": "code",
   "execution_count": 26,
   "metadata": {},
   "outputs": [
    {
     "data": {
      "text/plain": [
       "untrained Machine; caches model-specific representations of data\n",
       "  model: DecisionTreeClassifier(max_depth = -1, …)\n",
       "  args: \n",
       "    1:\tSource @049 ⏎ Table{AbstractVector{Continuous}}\n",
       "    2:\tSource @751 ⏎ AbstractVector{Multiclass{3}}\n"
      ]
     },
     "metadata": {},
     "output_type": "display_data"
    }
   ],
   "source": [
    "tree = machine(tree_model, X, y)"
   ]
  },
  {
   "attachments": {},
   "cell_type": "markdown",
   "metadata": {},
   "source": [
    "### Training and testing a supervised model"
   ]
  },
  {
   "attachments": {},
   "cell_type": "markdown",
   "metadata": {},
   "source": [
    "Splitting the data"
   ]
  },
  {
   "cell_type": "code",
   "execution_count": 43,
   "metadata": {},
   "outputs": [
    {
     "data": {
      "text/plain": [
       "3-element Vector{Int64}:\n",
       " 39\n",
       " 54\n",
       "  9"
      ]
     },
     "metadata": {},
     "output_type": "display_data"
    }
   ],
   "source": [
    "rng = StableRNG(566)\n",
    "train, test = partition(eachindex(y), 0.7, shuffle=true, rng=rng)\n",
    "test[1:3]"
   ]
  },
  {
   "cell_type": "code",
   "execution_count": 44,
   "metadata": {},
   "outputs": [
    {
     "ename": "UndefVarError",
     "evalue": "UndefVarError: fit! not defined",
     "output_type": "error",
     "traceback": [
      "UndefVarError: fit! not defined\n",
      "\n",
      "Stacktrace:\n",
      " [1] top-level scope\n",
      "   @ ~/Repos/mike_scratch/mlj_tutorial/mlj_tutorial.ipynb:2"
     ]
    }
   ],
   "source": [
    "# Fit the machine.\n",
    "fit!(tree, rows=train)"
   ]
  },
  {
   "cell_type": "code",
   "execution_count": 47,
   "metadata": {},
   "outputs": [
    {
     "ename": "UndefVarError",
     "evalue": "UndefVarError: fit! not defined",
     "output_type": "error",
     "traceback": [
      "UndefVarError: fit! not defined\n",
      "\n",
      "Stacktrace:\n",
      " [1] top-level scope\n",
      "   @ ~/Repos/mike_scratch/mlj_tutorial/mlj_tutorial.ipynb:1"
     ]
    }
   ],
   "source": [
    "fit!(tree, rows=train)"
   ]
  },
  {
   "cell_type": "code",
   "execution_count": 48,
   "metadata": {},
   "outputs": [],
   "source": []
  }
 ],
 "metadata": {
  "kernelspec": {
   "display_name": "Julia 1.8.5",
   "language": "julia",
   "name": "julia-1.8"
  },
  "language_info": {
   "file_extension": ".jl",
   "mimetype": "application/julia",
   "name": "julia",
   "version": "1.8.5"
  },
  "orig_nbformat": 4
 },
 "nbformat": 4,
 "nbformat_minor": 2
}
