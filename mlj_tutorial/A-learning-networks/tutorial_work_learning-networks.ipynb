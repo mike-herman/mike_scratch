{
 "cells": [
  {
   "attachments": {},
   "cell_type": "markdown",
   "metadata": {},
   "source": [
    "[Link to tutorial](https://juliaai.github.io/DataScienceTutorials.jl/getting-started/learning-networks/)"
   ]
  },
  {
   "cell_type": "code",
   "execution_count": 1,
   "metadata": {},
   "outputs": [
    {
     "name": "stderr",
     "output_type": "stream",
     "text": [
      "\u001b[32m\u001b[1m  Activating\u001b[22m\u001b[39m project at `~/Repos/mike_scratch/mlj_tutorial/A-learning-networks`\n"
     ]
    },
    {
     "name": "stderr",
     "output_type": "stream",
     "text": [
      "┌ Warning: The active manifest file has dependencies that were resolved with a different julia version (1.7.1). Unexpected behavior may occur.\n",
      "└ @ nothing /Users/mph/Repos/mike_scratch/mlj_tutorial/A-learning-networks/Manifest.toml:0\n"
     ]
    },
    {
     "name": "stderr",
     "output_type": "stream",
     "text": [
      "\u001b[32m\u001b[1m   Installed\u001b[22m\u001b[39m MLJMultivariateStatsInterface ─ v0.2.2\n"
     ]
    },
    {
     "name": "stderr",
     "output_type": "stream",
     "text": [
      "\u001b[32m\u001b[1mPrecompiling\u001b[22m\u001b[39m project...\n"
     ]
    },
    {
     "name": "stderr",
     "output_type": "stream",
     "text": [
      "\u001b[32m  ✓ \u001b[39m\u001b[90mArpack_jll\u001b[39m\n"
     ]
    },
    {
     "name": "stderr",
     "output_type": "stream",
     "text": [
      "\u001b[32m  ✓ \u001b[39m\u001b[90mArpack\u001b[39m\n"
     ]
    },
    {
     "name": "stderr",
     "output_type": "stream",
     "text": [
      "\u001b[32m  ✓ \u001b[39m\u001b[90mMultivariateStats\u001b[39m\n"
     ]
    },
    {
     "name": "stderr",
     "output_type": "stream",
     "text": [
      "\u001b[32m  ✓ \u001b[39mMLJMultivariateStatsInterface\n",
      "  4 dependencies successfully precompiled in 2 seconds. 88 already precompiled.\n"
     ]
    }
   ],
   "source": [
    "using Pkg\n",
    "Pkg.activate(\".\")\n",
    "Pkg.instantiate()"
   ]
  },
  {
   "cell_type": "code",
   "execution_count": 2,
   "metadata": {},
   "outputs": [],
   "source": [
    "using MLJ, StableRNGs\n",
    "import DataFrames"
   ]
  },
  {
   "cell_type": "code",
   "execution_count": 3,
   "metadata": {},
   "outputs": [
    {
     "name": "stderr",
     "output_type": "stream",
     "text": [
      "┌ Info: For silent loading, specify `verbosity=0`. \n",
      "└ @ Main /Users/mph/.julia/packages/MLJModels/tMgLW/src/loading.jl:168\n"
     ]
    },
    {
     "name": "stdout",
     "output_type": "stream",
     "text": [
      "import MLJMultivariateStatsInterface ✔"
     ]
    },
    {
     "name": "stdout",
     "output_type": "stream",
     "text": [
      "\n",
      "┌────────────┬────────────┬────────────┐\n",
      "│\u001b[1m x1         \u001b[0m│\u001b[1m x2         \u001b[0m│\u001b[1m x3         \u001b[0m│\n",
      "│\u001b[90m Float64    \u001b[0m│\u001b[90m Float64    \u001b[0m│\u001b[90m Float64    \u001b[0m│\n",
      "│\u001b[90m Continuous \u001b[0m│\u001b[90m Continuous \u001b[0m│\u001b[90m Continuous \u001b[0m│\n",
      "├────────────┼────────────┼────────────┤\n",
      "│ 0.894278   │ 0.480202   │ 0.133585   │\n",
      "│ 0.686442   │ 0.755178   │ 0.0831463  │\n",
      "│ 0.492613   │ 0.612385   │ 0.923971   │\n",
      "└────────────┴────────────┴────────────┘\n"
     ]
    }
   ],
   "source": [
    "Ridge = @load RidgeRegressor pkg=MultivariateStats\n",
    "\n",
    "rng = StableRNG(71)\n",
    "\n",
    "x1 = rand(rng, 300)\n",
    "x2 = rand(rng, 300)\n",
    "x3 = rand(rng, 300)\n",
    "y = exp.(x1 - x2 - 2*x3 + 0.1 * rand(rng, 300))\n",
    "\n",
    "X = DataFrames.DataFrame(x1=x1, x2=x2, x3=x3)\n",
    "first(X,3) |> pretty"
   ]
  },
  {
   "cell_type": "code",
   "execution_count": 4,
   "metadata": {},
   "outputs": [],
   "source": [
    "test, train = partition(eachindex(y), 0.8);"
   ]
  },
  {
   "attachments": {},
   "cell_type": "markdown",
   "metadata": {},
   "source": [
    "A learning network is a DAG whose nodes apply trained or untrained operations, such as predict, transform, `+`, vcat, etc. Here's a fairly standard regression workflow: teh data is standardized, the target is transformed using Box-Cox, a ridge regression is applied and the result is converted back by inverting the transformation."
   ]
  },
  {
   "attachments": {},
   "cell_type": "markdown",
   "metadata": {},
   "source": [
    "![A learning network flow](https://juliaai.github.io/DataScienceTutorials.jl/assets/diagrams/composite1.svg)"
   ]
  },
  {
   "attachments": {},
   "cell_type": "markdown",
   "metadata": {},
   "source": [
    "This DAG is simple enough that it could be done in a pipeline."
   ]
  },
  {
   "attachments": {},
   "cell_type": "markdown",
   "metadata": {},
   "source": [
    "## Sources and nodes"
   ]
  },
  {
   "cell_type": "code",
   "execution_count": 5,
   "metadata": {},
   "outputs": [
    {
     "data": {
      "text/plain": [
       "Source @639 ⏎ `AbstractVector{Continuous}`"
      ]
     },
     "metadata": {},
     "output_type": "display_data"
    }
   ],
   "source": [
    "Xs = source(X)\n",
    "ys = source(y)"
   ]
  },
  {
   "cell_type": "code",
   "execution_count": 6,
   "metadata": {},
   "outputs": [
    {
     "data": {
      "text/plain": [
       "Node{Machine{Standardizer,…}}\n",
       "  args:\n",
       "    1:\tSource @556\n",
       "  formula:\n",
       "    transform(\n",
       "        \u001b[0m\u001b[1mMachine{Standardizer,…}\u001b[22m, \n",
       "        Source @556)"
      ]
     },
     "metadata": {},
     "output_type": "display_data"
    }
   ],
   "source": [
    "stand = machine(Standardizer(), Xs)\n",
    "W = transform(stand, Xs)"
   ]
  },
  {
   "cell_type": "code",
   "execution_count": 7,
   "metadata": {},
   "outputs": [
    {
     "name": "stderr",
     "output_type": "stream",
     "text": [
      "┌ Info: Training Machine{Standardizer,…}.\n",
      "└ @ MLJBase /Users/mph/.julia/packages/MLJBase/MuLnJ/src/machines.jl:464\n"
     ]
    }
   ],
   "source": [
    "fit!(W, rows=train);"
   ]
  },
  {
   "attachments": {},
   "cell_type": "markdown",
   "metadata": {},
   "source": [
    "Once `W` is fit, we can choose which part of the data to apply it on."
   ]
  },
  {
   "cell_type": "code",
   "execution_count": 9,
   "metadata": {},
   "outputs": [
    {
     "data": {
      "text/html": [
       "<div class=\"data-frame\"><p>2 rows × 3 columns</p><table class=\"data-frame\"><thead><tr><th></th><th>x1</th><th>x2</th><th>x3</th></tr><tr><th></th><th title=\"Float64\">Float64</th><th title=\"Float64\">Float64</th><th title=\"Float64\">Float64</th></tr></thead><tbody><tr><th>1</th><td>-0.00299567</td><td>0.188861</td><td>1.34562</td></tr><tr><th>2</th><td>0.360153</td><td>0.56441</td><td>1.50152</td></tr></tbody></table></div>"
      ],
      "text/latex": [
       "\\begin{tabular}{r|ccc}\n",
       "\t& x1 & x2 & x3\\\\\n",
       "\t\\hline\n",
       "\t& Float64 & Float64 & Float64\\\\\n",
       "\t\\hline\n",
       "\t1 & -0.00299567 & 0.188861 & 1.34562 \\\\\n",
       "\t2 & 0.360153 & 0.56441 & 1.50152 \\\\\n",
       "\\end{tabular}\n"
      ],
      "text/plain": [
       "\u001b[1m2×3 DataFrame\u001b[0m\n",
       "\u001b[1m Row \u001b[0m│\u001b[1m x1          \u001b[0m\u001b[1m x2       \u001b[0m\u001b[1m x3      \u001b[0m\n",
       "\u001b[1m     \u001b[0m│\u001b[90m Float64     \u001b[0m\u001b[90m Float64  \u001b[0m\u001b[90m Float64 \u001b[0m\n",
       "─────┼────────────────────────────────\n",
       "   1 │ -0.00299567  0.188861  1.34562\n",
       "   2 │  0.360153    0.56441   1.50152"
      ]
     },
     "metadata": {},
     "output_type": "display_data"
    }
   ],
   "source": [
    "W()               # transform all data.\n",
    "W(rows=test, )    # transforms only the test data.\n",
    "W(X[3:4, :])      # transforms only specific data."
   ]
  },
  {
   "attachments": {},
   "cell_type": "markdown",
   "metadata": {},
   "source": [
    "Now define other nodes."
   ]
  },
  {
   "cell_type": "code",
   "execution_count": 10,
   "metadata": {},
   "outputs": [
    {
     "data": {
      "text/plain": [
       "Node{Machine{UnivariateBoxCoxTransformer,…}}\n",
       "  args:\n",
       "    1:\tNode{Machine{RidgeRegressor,…}}\n",
       "  formula:\n",
       "    inverse_transform(\n",
       "        \u001b[0m\u001b[1mMachine{UnivariateBoxCoxTransformer,…}\u001b[22m, \n",
       "        predict(\n",
       "            \u001b[0m\u001b[1mMachine{RidgeRegressor,…}\u001b[22m, \n",
       "            transform(\n",
       "                \u001b[0m\u001b[1mMachine{Standardizer,…}\u001b[22m, \n",
       "                Source @556)))"
      ]
     },
     "metadata": {},
     "output_type": "display_data"
    }
   ],
   "source": [
    "box_model = UnivariateBoxCoxTransformer()\n",
    "box = machine(box_model, ys)\n",
    "z = transform(box, ys)\n",
    "\n",
    "ridge_model = Ridge(lambda=0.1)\n",
    "ridge = machine(ridge_model, W, z)\n",
    "ẑ = predict(ridge, W)\n",
    "\n",
    "ŷ = inverse_transform(box, ẑ)"
   ]
  },
  {
   "attachments": {},
   "cell_type": "markdown",
   "metadata": {},
   "source": [
    "Above we defined the network. Now we can fit the model."
   ]
  },
  {
   "cell_type": "code",
   "execution_count": 11,
   "metadata": {},
   "outputs": [
    {
     "name": "stderr",
     "output_type": "stream",
     "text": [
      "┌ Info: Training Machine{UnivariateBoxCoxTransformer,…}.\n",
      "└ @ MLJBase /Users/mph/.julia/packages/MLJBase/MuLnJ/src/machines.jl:464\n",
      "┌ Info: Not retraining Machine{Standardizer,…}. Use `force=true` to force.\n",
      "└ @ MLJBase /Users/mph/.julia/packages/MLJBase/MuLnJ/src/machines.jl:467\n"
     ]
    },
    {
     "name": "stderr",
     "output_type": "stream",
     "text": [
      "┌ Info: Training Machine{RidgeRegressor,…}.\n",
      "└ @ MLJBase /Users/mph/.julia/packages/MLJBase/MuLnJ/src/machines.jl:464\n"
     ]
    },
    {
     "data": {
      "text/plain": [
       "Node{Machine{UnivariateBoxCoxTransformer,…}}\n",
       "  args:\n",
       "    1:\tNode{Machine{RidgeRegressor,…}}\n",
       "  formula:\n",
       "    inverse_transform(\n",
       "        \u001b[0m\u001b[1mMachine{UnivariateBoxCoxTransformer,…}\u001b[22m, \n",
       "        predict(\n",
       "            \u001b[0m\u001b[1mMachine{RidgeRegressor,…}\u001b[22m, \n",
       "            transform(\n",
       "                \u001b[0m\u001b[1mMachine{Standardizer,…}\u001b[22m, \n",
       "                Source @556)))"
      ]
     },
     "metadata": {},
     "output_type": "display_data"
    }
   ],
   "source": [
    "fit!(ŷ, rows=train)"
   ]
  },
  {
   "attachments": {},
   "cell_type": "markdown",
   "metadata": {},
   "source": [
    "Now that `y\\hat` has been fit, we can apply the full graph on the test data. Let's get the `rms` between ground thruth and the predicted values."
   ]
  },
  {
   "cell_type": "code",
   "execution_count": 12,
   "metadata": {},
   "outputs": [
    {
     "data": {
      "text/plain": [
       "0.16668840048398906"
      ]
     },
     "metadata": {},
     "output_type": "display_data"
    }
   ],
   "source": [
    "rms(y[test], ŷ(rows=test))"
   ]
  },
  {
   "attachments": {},
   "cell_type": "markdown",
   "metadata": {},
   "source": [
    "## Modifying hyperparameters"
   ]
  },
  {
   "attachments": {},
   "cell_type": "markdown",
   "metadata": {},
   "source": [
    "Hyperparameters can be accessed using dot syntax as usual. Let's change the `lambda` to 5.0."
   ]
  },
  {
   "cell_type": "code",
   "execution_count": 13,
   "metadata": {},
   "outputs": [],
   "source": [
    "ridge_model.lambda = 5.0;"
   ]
  },
  {
   "attachments": {},
   "cell_type": "markdown",
   "metadata": {},
   "source": [
    "Since the node `z\\hat` corresponds to a machine that wraps `ridge_model`, that node has effectively changed and will be retrained."
   ]
  },
  {
   "cell_type": "code",
   "execution_count": 14,
   "metadata": {},
   "outputs": [
    {
     "name": "stderr",
     "output_type": "stream",
     "text": [
      "┌ Info: Not retraining Machine{UnivariateBoxCoxTransformer,…}. Use `force=true` to force.\n",
      "└ @ MLJBase /Users/mph/.julia/packages/MLJBase/MuLnJ/src/machines.jl:467\n",
      "┌ Info: Not retraining Machine{Standardizer,…}. Use `force=true` to force.\n",
      "└ @ MLJBase /Users/mph/.julia/packages/MLJBase/MuLnJ/src/machines.jl:467\n",
      "┌ Info: Updating Machine{RidgeRegressor,…}.\n",
      "└ @ MLJBase /Users/mph/.julia/packages/MLJBase/MuLnJ/src/machines.jl:465\n"
     ]
    },
    {
     "data": {
      "text/plain": [
       "0.08107794068129705"
      ]
     },
     "metadata": {},
     "output_type": "display_data"
    }
   ],
   "source": [
    "fit!(ŷ, rows=train)\n",
    "rms(y[test], ŷ(rows=test))"
   ]
  },
  {
   "cell_type": "code",
   "execution_count": null,
   "metadata": {},
   "outputs": [],
   "source": []
  }
 ],
 "metadata": {
  "kernelspec": {
   "display_name": "Julia 1.8.5",
   "language": "julia",
   "name": "julia-1.8"
  },
  "language_info": {
   "file_extension": ".jl",
   "mimetype": "application/julia",
   "name": "julia",
   "version": "1.8.5"
  },
  "orig_nbformat": 4
 },
 "nbformat": 4,
 "nbformat_minor": 2
}
