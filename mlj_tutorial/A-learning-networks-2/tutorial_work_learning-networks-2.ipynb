{
 "cells": [
  {
   "attachments": {},
   "cell_type": "markdown",
   "metadata": {},
   "source": [
    "[Link to tutorial](https://juliaai.github.io/DataScienceTutorials.jl/getting-started/learning-networks-2/)"
   ]
  },
  {
   "cell_type": "code",
   "execution_count": 1,
   "metadata": {},
   "outputs": [
    {
     "name": "stderr",
     "output_type": "stream",
     "text": [
      "\u001b[32m\u001b[1m  Activating\u001b[22m\u001b[39m project at `~/Repos/mike_scratch/mlj_tutorial/A-learning-networks-2`\n"
     ]
    },
    {
     "name": "stderr",
     "output_type": "stream",
     "text": [
      "┌ Warning: The active manifest file has dependencies that were resolved with a different julia version (1.7.1). Unexpected behavior may occur.\n",
      "└ @ nothing /Users/mph/Repos/mike_scratch/mlj_tutorial/A-learning-networks-2/Manifest.toml:0\n"
     ]
    }
   ],
   "source": [
    "using Pkg\n",
    "Pkg.activate(\".\")\n",
    "Pkg.instantiate()"
   ]
  },
  {
   "cell_type": "code",
   "execution_count": 2,
   "metadata": {},
   "outputs": [],
   "source": [
    "using MLJ\n",
    "using StableRNGs\n",
    "import DataFrames: DataFrame"
   ]
  },
  {
   "cell_type": "code",
   "execution_count": 3,
   "metadata": {},
   "outputs": [
    {
     "name": "stderr",
     "output_type": "stream",
     "text": [
      "┌ Info: For silent loading, specify `verbosity=0`. \n",
      "└ @ Main /Users/mph/.julia/packages/MLJModels/tMgLW/src/loading.jl:168\n"
     ]
    },
    {
     "name": "stdout",
     "output_type": "stream",
     "text": [
      "import MLJMultivariateStatsInterface ✔"
     ]
    },
    {
     "name": "stdout",
     "output_type": "stream",
     "text": [
      "\n"
     ]
    },
    {
     "data": {
      "text/plain": [
       "([1, 2, 3, 4, 5, 6, 7, 8, 9, 10  …  231, 232, 233, 234, 235, 236, 237, 238, 239, 240], [241, 242, 243, 244, 245, 246, 247, 248, 249, 250  …  291, 292, 293, 294, 295, 296, 297, 298, 299, 300])"
      ]
     },
     "metadata": {},
     "output_type": "display_data"
    }
   ],
   "source": [
    "Ridge = @load RidgeRegressor pkg=MultivariateStats\n",
    "\n",
    "rng = StableRNG(71)\n",
    "x1 = rand(rng, 300)\n",
    "x2 = rand(rng, 300)\n",
    "x3 = rand(rng, 300)\n",
    "y = exp.(x1 - x2 - 2*x3 + 0.1*rand(rng,300))\n",
    "X = DataFrame(x1=x1, x2=x2, x3=x3)\n",
    "\n",
    "test, train = partition(eachindex(y), 0.8)"
   ]
  },
  {
   "attachments": {},
   "cell_type": "markdown",
   "metadata": {},
   "source": [
    "There are two approaches to generating a model from a network -- using `@from_network` and writing the full model. The first is usually simpler."
   ]
  },
  {
   "attachments": {},
   "cell_type": "markdown",
   "metadata": {},
   "source": [
    "## Using `@from_network` macro"
   ]
  },
  {
   "cell_type": "code",
   "execution_count": 4,
   "metadata": {},
   "outputs": [
    {
     "data": {
      "text/plain": [
       "Source @140 ⏎ `AbstractVector{Continuous}`"
      ]
     },
     "metadata": {},
     "output_type": "display_data"
    }
   ],
   "source": [
    "Xs = source(X)\n",
    "ys = source(y)"
   ]
  },
  {
   "cell_type": "code",
   "execution_count": 5,
   "metadata": {},
   "outputs": [
    {
     "data": {
      "text/plain": [
       "Node{Machine{UnivariateBoxCoxTransformer,…}}\n",
       "  args:\n",
       "    1:\tSource @140\n",
       "  formula:\n",
       "    transform(\n",
       "        \u001b[0m\u001b[1mMachine{UnivariateBoxCoxTransformer,…}\u001b[22m, \n",
       "        Source @140)"
      ]
     },
     "metadata": {},
     "output_type": "display_data"
    }
   ],
   "source": [
    "# first layer\n",
    "std_model = Standardizer()\n",
    "stand = machine(std_model, Xs)\n",
    "W = transform(stand, Xs)\n",
    "\n",
    "box_model = UnivariateBoxCoxTransformer()\n",
    "box_mach = machine(box_model, ys)\n",
    "z = transform(box_mach, ys)"
   ]
  },
  {
   "cell_type": "code",
   "execution_count": 6,
   "metadata": {},
   "outputs": [
    {
     "data": {
      "text/plain": [
       "Node{Machine{RidgeRegressor,…}}\n",
       "  args:\n",
       "    1:\tNode{Machine{Standardizer,…}}\n",
       "  formula:\n",
       "    predict(\n",
       "        \u001b[0m\u001b[1mMachine{RidgeRegressor,…}\u001b[22m, \n",
       "        transform(\n",
       "            \u001b[0m\u001b[1mMachine{Standardizer,…}\u001b[22m, \n",
       "            Source @974))"
      ]
     },
     "metadata": {},
     "output_type": "display_data"
    }
   ],
   "source": [
    "# Second layer\n",
    "ridge_model = Ridge(lambda=0.1)\n",
    "ridge = machine(ridge_model, W, z)\n",
    "ẑ = predict(ridge, W)"
   ]
  },
  {
   "cell_type": "code",
   "execution_count": 7,
   "metadata": {},
   "outputs": [
    {
     "data": {
      "text/plain": [
       "Node{Machine{UnivariateBoxCoxTransformer,…}}\n",
       "  args:\n",
       "    1:\tNode{Machine{RidgeRegressor,…}}\n",
       "  formula:\n",
       "    inverse_transform(\n",
       "        \u001b[0m\u001b[1mMachine{UnivariateBoxCoxTransformer,…}\u001b[22m, \n",
       "        predict(\n",
       "            \u001b[0m\u001b[1mMachine{RidgeRegressor,…}\u001b[22m, \n",
       "            transform(\n",
       "                \u001b[0m\u001b[1mMachine{Standardizer,…}\u001b[22m, \n",
       "                Source @974)))"
      ]
     },
     "metadata": {},
     "output_type": "display_data"
    }
   ],
   "source": [
    "# output\n",
    "ŷ = inverse_transform(box_mach, ẑ)"
   ]
  },
  {
   "attachments": {},
   "cell_type": "markdown",
   "metadata": {},
   "source": [
    "A learning network needs to be exported to create a new stand-alone model type. Instances of that type can be bound with data in a machine, which can be evaluated. Somewhat paradoxically, one can wrap a learning network in a certain kind of machine called a learning network machine before exporting it. In fact, the export process requires us to do so. Since a composite model type does not yet exist, one constructs machine using a \"surrogate\" model, whose name indicates the ultimate model supertype (Deterministic, Probabilistic, Unsupervised, Static). This surrogate model has no fields."
   ]
  },
  {
   "cell_type": "code",
   "execution_count": 8,
   "metadata": {},
   "outputs": [
    {
     "name": "stderr",
     "output_type": "stream",
     "text": [
      "┌ Info: Training Machine{UnivariateBoxCoxTransformer,…}.\n",
      "└ @ MLJBase /Users/mph/.julia/packages/MLJBase/MuLnJ/src/machines.jl:464\n",
      "┌ Info: Training Machine{Standardizer,…}.\n",
      "└ @ MLJBase /Users/mph/.julia/packages/MLJBase/MuLnJ/src/machines.jl:464\n"
     ]
    },
    {
     "name": "stderr",
     "output_type": "stream",
     "text": [
      "┌ Info: Training Machine{RidgeRegressor,…}.\n",
      "└ @ MLJBase /Users/mph/.julia/packages/MLJBase/MuLnJ/src/machines.jl:464\n"
     ]
    },
    {
     "data": {
      "text/plain": [
       "5-element Vector{Float64}:\n",
       " 1.231116310512772\n",
       " 0.8325844617296161\n",
       " 0.1472180186904795\n",
       " 0.13611519633371513\n",
       " 0.8525369962311635"
      ]
     },
     "metadata": {},
     "output_type": "display_data"
    }
   ],
   "source": [
    "surrogate = Deterministic()\n",
    "mach = machine(surrogate, Xs, ys; predict=ŷ)\n",
    "\n",
    "fit!(mach)\n",
    "predict(mach, X[test[1:5], :])"
   ]
  },
  {
   "attachments": {},
   "cell_type": "markdown",
   "metadata": {},
   "source": [
    "We defined the learning network machine `mach` above. The following code defines a new model subtype `WrappedRegressor <: Supervised` with a single field regressor."
   ]
  },
  {
   "cell_type": "code",
   "execution_count": 9,
   "metadata": {},
   "outputs": [],
   "source": [
    "@from_network mach begin\n",
    "    mutable struct CompositeModel\n",
    "        regressor=ridge_model\n",
    "    end\n",
    "end"
   ]
  },
  {
   "attachments": {},
   "cell_type": "markdown",
   "metadata": {},
   "source": [
    "This defines a consturctor `CompositeModel` and attributes a name to teh different models; the ordering / connection between the nodes is inferred from `y\\hat` via the `<= y\\hat`."
   ]
  },
  {
   "attachments": {},
   "cell_type": "markdown",
   "metadata": {},
   "source": [
    "Note: if this were a probabilistic model (e.g. RidgeClassifier) we would have needed to add `is_probabilistic=true` at the end."
   ]
  },
  {
   "cell_type": "code",
   "execution_count": 10,
   "metadata": {},
   "outputs": [
    {
     "data": {
      "text/plain": [
       "0.013"
      ]
     },
     "metadata": {},
     "output_type": "display_data"
    }
   ],
   "source": [
    "cm = machine(CompositeModel(), X, y)\n",
    "res = evaluate!(cm, resampling=Holdout(fraction_train=0.8, rng=71), measure=rms)\n",
    "round(res.measurement[1], sigdigits=3)"
   ]
  },
  {
   "attachments": {},
   "cell_type": "markdown",
   "metadata": {},
   "source": [
    "## Defining a model from scratch"
   ]
  },
  {
   "attachments": {},
   "cell_type": "markdown",
   "metadata": {},
   "source": [
    "Instead of using `@from_network`, we can define the model from scratch."
   ]
  },
  {
   "cell_type": "code",
   "execution_count": 11,
   "metadata": {},
   "outputs": [
    {
     "data": {
      "text/plain": [
       "0.0207"
      ]
     },
     "metadata": {},
     "output_type": "display_data"
    }
   ],
   "source": [
    "mutable struct CompositeModel2 <: DeterministicComposite\n",
    "    std_model::Standardizer\n",
    "    box_model::UnivariateBoxCoxTransformer\n",
    "    ridge_model::Ridge\n",
    "end\n",
    "\n",
    "function MLJ.fit(m::CompositeModel2, verbosity::Int, X, y)\n",
    "    Xs = source(X)\n",
    "    ys = source(y)\n",
    "    W = MLJ.transform(machine(m.std_model, Xs), Xs)\n",
    "    box = machine(m.box_model, ys)\n",
    "    z = MLJ.transform(box, ys)\n",
    "    ẑ = predict(machine(m.ridge_model, W, z), W)\n",
    "    ŷ = inverse_transform(box, ẑ)\n",
    "    mach = machine(Deterministic(), Xs, ys; predict=ŷ)\n",
    "    return!(mach, m, verbosity - 1)\n",
    "end\n",
    "\n",
    "mdl = CompositeModel2(Standardizer(), UnivariateBoxCoxTransformer(),\n",
    "                      Ridge(lambda=0.1))\n",
    "cm = machine(mdl, X, y)\n",
    "res = evaluate!(cm, resampling=Holdout(fraction_train=0.8), measure=rms)\n",
    "round(res.measurement[1], sigdigits=3)"
   ]
  },
  {
   "attachments": {},
   "cell_type": "markdown",
   "metadata": {},
   "source": [
    "We now have a constructor to a model which cane be used as a stand-alone object, tuned and composed as you would with any other model."
   ]
  }
 ],
 "metadata": {
  "kernelspec": {
   "display_name": "Julia 1.8.5",
   "language": "julia",
   "name": "julia-1.8"
  },
  "language_info": {
   "file_extension": ".jl",
   "mimetype": "application/julia",
   "name": "julia",
   "version": "1.8.5"
  },
  "orig_nbformat": 4
 },
 "nbformat": 4,
 "nbformat_minor": 2
}
