{
 "cells": [
  {
   "attachments": {},
   "cell_type": "markdown",
   "metadata": {},
   "source": [
    "[Link to tutorial](https://juliaai.github.io/DataScienceTutorials.jl/getting-started/composing-models/)"
   ]
  },
  {
   "cell_type": "code",
   "execution_count": 1,
   "metadata": {},
   "outputs": [
    {
     "name": "stderr",
     "output_type": "stream",
     "text": [
      "\u001b[32m\u001b[1m  Activating\u001b[22m\u001b[39m project at `~/Repos/mike_scratch/mlj_tutorial/A-ensembles`\n"
     ]
    },
    {
     "name": "stderr",
     "output_type": "stream",
     "text": [
      "┌ Warning: The active manifest file has dependencies that were resolved with a different julia version (1.7.1). Unexpected behavior may occur.\n",
      "└ @ nothing /Users/mph/Repos/mike_scratch/mlj_tutorial/A-ensembles/Manifest.toml:0\n"
     ]
    }
   ],
   "source": [
    "using Pkg\n",
    "Pkg.activate(\".\")\n",
    "Pkg.instantiate()"
   ]
  },
  {
   "attachments": {},
   "cell_type": "markdown",
   "metadata": {},
   "source": [
    "First, generate dummy data."
   ]
  },
  {
   "cell_type": "code",
   "execution_count": 2,
   "metadata": {},
   "outputs": [],
   "source": [
    "using MLJ\n",
    "using PrettyPrinting"
   ]
  },
  {
   "cell_type": "code",
   "execution_count": 3,
   "metadata": {},
   "outputs": [
    {
     "name": "stderr",
     "output_type": "stream",
     "text": [
      "┌ Info: For silent loading, specify `verbosity=0`. \n",
      "└ @ Main /Users/mph/.julia/packages/MLJModels/tMgLW/src/loading.jl:168\n"
     ]
    },
    {
     "name": "stdout",
     "output_type": "stream",
     "text": [
      "import NearestNeighborModels ✔"
     ]
    },
    {
     "name": "stdout",
     "output_type": "stream",
     "text": [
      "\n"
     ]
    }
   ],
   "source": [
    "KNNRegressor = @load KNNRegressor\n",
    "# input\n",
    "X = (age    = [23, 45, 34, 25, 67],\n",
    "     gender = categorical(['m','m','f','m','f']))\n",
    "# target\n",
    "height = [178, 194, 165, 173, 168];"
   ]
  },
  {
   "cell_type": "code",
   "execution_count": 4,
   "metadata": {},
   "outputs": [
    {
     "data": {
      "text/plain": [
       "AbstractVector{Count}\u001b[90m (alias for \u001b[39m\u001b[90mAbstractArray{Count, 1}\u001b[39m\u001b[90m)\u001b[39m"
      ]
     },
     "metadata": {},
     "output_type": "display_data"
    }
   ],
   "source": [
    "scitype(X.age)"
   ]
  },
  {
   "attachments": {},
   "cell_type": "markdown",
   "metadata": {},
   "source": [
    "We want a pipeline that processes the data. Specifically, we want to:\n",
    "- `coerce` age into a continuous variable instead of a count.\n",
    "- One hot encode the categorical features in X.\n",
    "\n",
    "Using `Pipeline` will apply these changes in order."
   ]
  },
  {
   "cell_type": "code",
   "execution_count": 5,
   "metadata": {},
   "outputs": [
    {
     "data": {
      "text/plain": [
       "DeterministicPipeline(\n",
       "    coercer = var\"#9#10\"(),\n",
       "    one_hot_encoder = OneHotEncoder(\n",
       "            features = Symbol[],\n",
       "            drop_last = false,\n",
       "            ordered_factor = true,\n",
       "            ignore = false),\n",
       "    transformed_target_model = TransformedTargetModelDeterministic(\n",
       "            model = KNNRegressor,\n",
       "            target = UnivariateStandardizer,\n",
       "            inverse = nothing,\n",
       "            cache = true),\n",
       "    cache = true)"
      ]
     },
     "metadata": {},
     "output_type": "display_data"
    }
   ],
   "source": [
    "pipe = Pipeline(\n",
    "    coercer = X -> coerce(X, :age=>Continuous),\n",
    "    one_hot_encoder = OneHotEncoder(),\n",
    "    transformed_target_model = TransformedTargetModel(\n",
    "        model = KNNRegressor(K=3);\n",
    "        target=UnivariateStandardizer()\n",
    "    )\n",
    ")"
   ]
  },
  {
   "attachments": {},
   "cell_type": "markdown",
   "metadata": {},
   "source": [
    "The `TransformedTargetModelDeterministic` will learn the a `UnivariateStandardizer` and apply it. We can access hyperparameters of the pipe."
   ]
  },
  {
   "cell_type": "code",
   "execution_count": 6,
   "metadata": {},
   "outputs": [],
   "source": [
    "pipe.transformed_target_model.model.K = 2\n",
    "pipe.one_hot_encoder.drop_last = true;"
   ]
  },
  {
   "attachments": {},
   "cell_type": "markdown",
   "metadata": {},
   "source": [
    "Using `evaluate!` on a pipe will construct machines that will contain the fitter parameters, etc."
   ]
  },
  {
   "cell_type": "code",
   "execution_count": 7,
   "metadata": {},
   "outputs": [
    {
     "name": "stderr",
     "output_type": "stream",
     "text": [
      "┌ Warning: The scitype of `y`, in `machine(model, X, y, ...)` is incompatible with `model=DeterministicPipeline{NamedTuple{,…},…}`:\n",
      "│ scitype(y) = AbstractVector{Count}\n",
      "│ target_scitype(model) = AbstractVector{Continuous}.\n",
      "└ @ MLJBase /Users/mph/.julia/packages/MLJBase/MuLnJ/src/machines.jl:140\n"
     ]
    },
    {
     "name": "stdout",
     "output_type": "stream",
     "text": [
      "PerformanceEvaluation(11.5,)"
     ]
    }
   ],
   "source": [
    "evaluate(\n",
    "    pipe,\n",
    "    X,\n",
    "    height,\n",
    "    resampling=Holdout(),\n",
    "    measure=rms\n",
    ") |> pprint"
   ]
  },
  {
   "cell_type": "code",
   "execution_count": null,
   "metadata": {},
   "outputs": [],
   "source": []
  }
 ],
 "metadata": {
  "kernelspec": {
   "display_name": "Julia 1.8.5",
   "language": "julia",
   "name": "julia-1.8"
  },
  "language_info": {
   "file_extension": ".jl",
   "mimetype": "application/julia",
   "name": "julia",
   "version": "1.8.5"
  },
  "orig_nbformat": 4
 },
 "nbformat": 4,
 "nbformat_minor": 2
}
